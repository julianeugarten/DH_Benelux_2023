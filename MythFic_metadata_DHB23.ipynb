{
 "cells": [
  {
   "cell_type": "code",
   "execution_count": 1,
   "id": "f5159225",
   "metadata": {},
   "outputs": [],
   "source": [
    "# required imports\n",
    "import csv\n",
    "import numpy as np\n",
    "import matplotlib.pyplot as plt\n",
    "import pandas as pd\n",
    "from collections import Counter\n",
    "from pprint import pprint\n",
    "\n",
    "#some columns contain comma-separated lists in string format, I turn them into list-objects here.\n",
    "def c2l(commastring): \n",
    "    return commastring.split(', ')\n",
    "\n",
    "df = pd.read_csv('anonymized_MythFic_metadata.csv', sep=';', converters={'character': c2l, 'category': c2l, 'fandom': c2l, 'relationship': c2l, 'additional tags': c2l,})"
   ]
  },
  {
   "cell_type": "code",
   "execution_count": 2,
   "id": "21b0f217",
   "metadata": {},
   "outputs": [
    {
     "data": {
      "text/plain": [
       "RangeIndex(start=0, stop=5154, step=1)"
      ]
     },
     "execution_count": 2,
     "metadata": {},
     "output_type": "execute_result"
    }
   ],
   "source": [
    "# indexing and alignment\n",
    "df.index"
   ]
  },
  {
   "cell_type": "code",
   "execution_count": 1,
   "id": "c94552f7",
   "metadata": {},
   "outputs": [],
   "source": [
    "# to check whether the metadata was imported correctly, uncomment the following line of code:\n",
    "# df.head"
   ]
  },
  {
   "cell_type": "markdown",
   "id": "47f4ecb1",
   "metadata": {},
   "source": [
    "## Relationship Categories"
   ]
  },
  {
   "attachments": {},
   "cell_type": "markdown",
   "id": "a3e86594",
   "metadata": {},
   "source": [
    "Fics are categorized according to the presence and gender of relationships.  \n",
    "\n",
    "The 7 types of relationships on AO3 are F/M (female/male), M/M (male/male), F/F (female/female), Gen (general, meaning no romantic or sexual relationships, Multi (meaning multiple types of relationships are present), and Other. The code below counts the frequency of each relationship category and visualizes them in a bar plot. It also includes the 'None' category for stories not tagged with any type of relationship.   \n"
   ]
  },
  {
   "cell_type": "code",
   "execution_count": 4,
   "id": "65da6d69",
   "metadata": {},
   "outputs": [
    {
     "name": "stdout",
     "output_type": "stream",
     "text": [
      "{'F/M': 2045, 'Gen': 1367, 'M/M': 1301, 'F/F': 481, 'None': 413, 'Other': 278, 'Multi': 250}\n"
     ]
    },
    {
     "data": {
      "image/png": "[encoded data removed]",
      "text/plain": [
       "<Figure size 640x480 with 1 Axes>"
      ]
     },
     "metadata": {},
     "output_type": "display_data"
    }
   ],
   "source": [
    "# fics are categorized according to the presence and gender of relationships.\n",
    "\n",
    "def plot_df_by_gender(df):\n",
    "    # identify all values used in the category-column\n",
    "    category_list = df['category'].sum()\n",
    "\n",
    "    # sanity check\n",
    "    #print(category_list)\n",
    "\n",
    "    # count frequency per value\n",
    "    category_counter = Counter(category_list)\n",
    "    \n",
    "\n",
    "    #add 'None' label\n",
    "    try:\n",
    "        category_counter['None'] = category_counter.pop('')\n",
    "    except KeyError:\n",
    "        pass\n",
    "    \n",
    "    # sort by highest-frequency\n",
    "    category_count_sorted = dict(category_counter.most_common())\n",
    "\n",
    "    print(category_count_sorted)\n",
    "\n",
    "    # plot results\n",
    "    plt.bar(category_count_sorted.keys(), category_count_sorted.values())\n",
    "    # plt.title('Frequency of Categories')\n",
    "    plt.xticks(rotation=45, ha=\"right\")\n",
    "\n",
    "    # save as png\n",
    "    # plt.savefig(\"category_sorted_AGrl.png\")\n",
    "\n",
    "plot_df_by_gender(df)"
   ]
  },
  {
   "cell_type": "markdown",
   "id": "82cd7238",
   "metadata": {},
   "source": [
    "## Violence-Related Additional Tags"
   ]
  },
  {
   "attachments": {},
   "cell_type": "markdown",
   "id": "11df312c",
   "metadata": {},
   "source": [
    "On AO3, authors can also tag their stories with additional tags. These can contain any type of information the author wants to communicate about their story, including but not limited to themes, topics, trigger warnings or musings on the story or writing process.  \n",
    "\n",
    "In the following code, I cound the number of unique additional tags present in *MythFic Metadata*. Then, I identify the 500 most frequently-used additional tags. I then assessed these tags to see whether they indicate violence in the story, and used violence-related tags to define five categories of violence in fanfiction."
   ]
  },
  {
   "cell_type": "code",
   "execution_count": 5,
   "id": "1e4f8de8",
   "metadata": {},
   "outputs": [
    {
     "name": "stdout",
     "output_type": "stream",
     "text": [
      "13936\n"
     ]
    }
   ],
   "source": [
    "# identify all values used in the additional tags-column\n",
    "additional_tag_list = df['additional tags'].sum()\n",
    "\n",
    "# how many unique tags?\n",
    "print(len(set(additional_tag_list)))"
   ]
  },
  {
   "cell_type": "code",
   "execution_count": 13,
   "id": "972df9c2",
   "metadata": {},
   "outputs": [],
   "source": [
    "# I created the violence-tagsets manually by looking at these tags and deciding which ones relate to violence.\n",
    "\n",
    "# count frequency per value\n",
    "additional_tag_counter = Counter(additional_tag_list)\n",
    "\n",
    "# You can also see in these results that 616 stories have no additional tags, which is why I looked at 501 tags.\n",
    "# In order to see the resulting tags, uncomment the following line of code:\n",
    "#print(additional_tag_counter.most_common (501))"
   ]
  },
  {
   "cell_type": "code",
   "execution_count": 7,
   "id": "8fbcaa91",
   "metadata": {},
   "outputs": [],
   "source": [
    "# here, I manually define the sets of tags that make up the violence categories.\n",
    "\n",
    "violence_tags = ['Canon-Typical Violence','Violence','Blood','Blood and Violence',\n",
    "                 'Non-Graphic Violence','Minor Violence','Torture','Cannibalism', \n",
    "                 'Pain','Implied/Referenced Torture','Past Abuse']\n",
    "\n",
    "noncon_tags = ['Implied/Referenced Rape/Non-con','Incest','Dubious Consent', 'Rape/Non-con Elements',\n",
    "               'Sibling Incest','Past Rape/Non-con','Rape', 'Bestiality', 'Gang Rape', 'Mildly Dubious Consent',\n",
    "               'Implied/Referenced Incest']\n",
    "\n",
    "rough_tags = ['Rough Sex','Biting','Hair-pulling','Spanking',]\n",
    "\n",
    "captivity_tags = ['Kidnapping', 'Abduction','Captivity', 'Imprisonment']\n",
    "\n",
    "death_tags = ['Death','Implied/Referenced Character Death','Minor Character Death', 'Murder',\n",
    "              'Temporary Character Death', 'Past Character Death']\n"
   ]
  },
  {
   "cell_type": "markdown",
   "id": "70296c43",
   "metadata": {},
   "source": [
    "## In order to perform analysis in SPSS, I need to transform this data"
   ]
  },
  {
   "cell_type": "code",
   "execution_count": 8,
   "id": "b32d9bbf",
   "metadata": {},
   "outputs": [
    {
     "name": "stdout",
     "output_type": "stream",
     "text": [
      "0       [M/M, References to Ancient Greek Religion & L...\n",
      "1       [F/M, Enemies to Lovers, Slave Trade, Alternat...\n",
      "2                    [F/F, F/M, Gen, M/M, Multi, Other, ]\n",
      "3       [F/F, F/M, M/M, abilities, abusing, Drug Use, ...\n",
      "4       [M/M, Post-Canon, Afterlife, Established Relat...\n",
      "                              ...                        \n",
      "5149    [M/M, Greek Mythology - Freeform, Supernatural...\n",
      "5150    [M/M, Greek Mythology - Freeform, Angst, Super...\n",
      "5151    [M/M, Drama, Supernatural Elements, Greek Myth...\n",
      "5152    [M/M, Greek Mythology - Freeform, Supernatural...\n",
      "5153    [Gen, Mythical Beings & Creatures, Poetry, Str...\n",
      "Length: 5154, dtype: object\n"
     ]
    }
   ],
   "source": [
    "df_benelux = df['category'] + df['additional tags']\n",
    "print(df_benelux)"
   ]
  },
  {
   "cell_type": "code",
   "execution_count": 9,
   "id": "d79f62da",
   "metadata": {},
   "outputs": [],
   "source": [
    "def rowTagPresence(row, tagSets):\n",
    "    rowdict = {}\n",
    "    for name, tagSet in tagSets.items():\n",
    "        if set(tagSet) & set(row):\n",
    "            rowdict[name] = 1\n",
    "        else:\n",
    "            rowdict[name] = 0\n",
    "    return rowdict\n",
    "\n",
    "tally = []\n",
    "            \n",
    "for row in df_benelux:\n",
    "    tally.append(rowTagPresence(row, {\n",
    "        'F/M': ['F/M'],\n",
    "        'M/M': ['M/M'],\n",
    "        'F/F': ['F/F'],\n",
    "        'Gen': ['Gen'],\n",
    "        'Multi': ['Multi'],\n",
    "        'Other': ['Other'],\n",
    "        'physical': ['Canon-Typical Violence','Violence','Blood','Blood and Violence',\n",
    "                 'Non-Graphic Violence','Minor Violence','Torture','Cannibalism', \n",
    "                 'Pain','Implied/Referenced Torture','Past Abuse'],\n",
    "        'sexual': ['Implied/Referenced Rape/Non-con','Incest','Dubious Consent', 'Rape/Non-con Elements',\n",
    "               'Sibling Incest','Past Rape/Non-con','Rape', 'Bestiality', 'Gang Rape', 'Mildly Dubious Consent',\n",
    "               'Implied/Referenced Incest'],\n",
    "        'rough': ['Rough Sex','Biting','Hair-pulling','Spanking',],\n",
    "        'captivity': ['Kidnapping', 'Abduction','Captivity', 'Imprisonment'],\n",
    "        'death': ['Death','Implied/Referenced Character Death','Minor Character Death', 'Murder',\n",
    "              'Temporary Character Death', 'Past Character Death']\n",
    "    }))\n",
    "\n",
    "#pprint(tally)"
   ]
  },
  {
   "cell_type": "code",
   "execution_count": 10,
   "id": "750fc2d7",
   "metadata": {},
   "outputs": [],
   "source": [
    "# now write this transformed data to a csv\n",
    "keys = tally[0].keys()\n",
    "\n",
    "with open('tally.csv', 'w', newline='') as output_file:\n",
    "    dict_writer = csv.DictWriter(output_file, keys)\n",
    "    dict_writer.writeheader()\n",
    "    dict_writer.writerows(tally)"
   ]
  },
  {
   "cell_type": "code",
   "execution_count": 12,
   "id": "d2533bb7",
   "metadata": {},
   "outputs": [],
   "source": [
    "# check\n",
    "df = pd.DataFrame([tally])\n",
    "\n",
    "#to check whether the tally worked, uncomment the following line.\n",
    "#print(df)"
   ]
  }
 ],
 "metadata": {
  "kernelspec": {
   "display_name": "Python 3 (ipykernel)",
   "language": "python",
   "name": "python3"
  },
  "language_info": {
   "codemirror_mode": {
    "name": "ipython",
    "version": 3
   },
   "file_extension": ".py",
   "mimetype": "text/x-python",
   "name": "python",
   "nbconvert_exporter": "python",
   "pygments_lexer": "ipython3",
   "version": "3.9.6"
  }
 },
 "nbformat": 4,
 "nbformat_minor": 5
}
